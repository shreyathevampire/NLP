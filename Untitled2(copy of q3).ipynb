{
  "nbformat": 4,
  "nbformat_minor": 0,
  "metadata": {
    "colab": {
      "name": "Untitled2.ipynb",
      "provenance": [],
      "collapsed_sections": [],
      "authorship_tag": "ABX9TyOlP2YHfrR9Z9lrODCGIEIG",
      "include_colab_link": true
    },
    "kernelspec": {
      "name": "python3",
      "display_name": "Python 3"
    }
  },
  "cells": [
    {
      "cell_type": "markdown",
      "metadata": {
        "id": "view-in-github",
        "colab_type": "text"
      },
      "source": [
        "<a href=\"https://colab.research.google.com/github/shreyathevampire/NLP/blob/master/Untitled2(copy%20of%20q3).ipynb\" target=\"_parent\"><img src=\"https://colab.research.google.com/assets/colab-badge.svg\" alt=\"Open In Colab\"/></a>"
      ]
    },
    {
      "cell_type": "code",
      "metadata": {
        "id": "y4nhKOwIEV3s",
        "colab_type": "code",
        "colab": {}
      },
      "source": [
        "from google.colab import drive\n",
        "drive.mount('/gdrive')\n",
        "%cd /gdrive"
      ],
      "execution_count": 0,
      "outputs": []
    },
    {
      "cell_type": "code",
      "metadata": {
        "id": "CgJHiEnuEk7M",
        "colab_type": "code",
        "colab": {}
      },
      "source": [
        "import numpy as np\n",
        "import pandas as pd\n",
        "import math\n",
        "import matplotlib.pyplot as plt\n",
        "from collections import Counter \n",
        "import statistics"
      ],
      "execution_count": 0,
      "outputs": []
    },
    {
      "cell_type": "code",
      "metadata": {
        "id": "7Gn1AkU7ElB_",
        "colab_type": "code",
        "colab": {}
      },
      "source": [
        "data = pd.read_csv(\"/gdrive/My Drive/smai/q3/train.csv\")\n",
        "data = data.drop('Id', axis=1)\n",
        "data.columns\n",
        "data.info()"
      ],
      "execution_count": 0,
      "outputs": []
    },
    {
      "cell_type": "code",
      "metadata": {
        "id": "o1QDOWAJElAY",
        "colab_type": "code",
        "colab": {}
      },
      "source": [
        "# col = data.columns\n",
        "# feature = []\n",
        "# for i in col:\n",
        "#   if i != 'SalePrice':\n",
        "#     count = data[i].unique()\n",
        "#     print(count)\n",
        "\n",
        "def handling_missing_values(data):\n",
        "  for i in data.columns:\n",
        "    # print(i)\n",
        "    val = Counter(data[i]).most_common(1)[0][0]\n",
        "    if data[i].dtype == object and isinstance(data.iloc[0][i], str):\n",
        "       data[i].fillna(data[i].mode()[0], inplace=True)\n",
        "    else:\n",
        "      data[i].fillna(data[i].mode()[0], inplace=True)\n",
        "\n",
        "handling_missing_values(data)\n",
        "# data.info()"
      ],
      "execution_count": 0,
      "outputs": []
    },
    {
      "cell_type": "code",
      "metadata": {
        "id": "vo_y-bcQEk-u",
        "colab_type": "code",
        "colab": {}
      },
      "source": [
        "dictionary = []\n",
        "for i in data.columns:\n",
        "  if data[i].dtype == object and isinstance(data.iloc[0][i], str):\n",
        "    count = data[i].unique().tolist()\n",
        "    dictionary.append(count)\n",
        "  else:\n",
        "    count = data[i].unique()\n",
        "    count = sorted(count)\n",
        "    lists = [(a+b)/2 for a,b in zip(count[::2], count[1::2])]\n",
        "    # print(lists)\n",
        "    dictionary.append(lists)\n",
        "print(dictionary)"
      ],
      "execution_count": 0,
      "outputs": []
    },
    {
      "cell_type": "code",
      "metadata": {
        "id": "ENXVZP-jEk4K",
        "colab_type": "code",
        "colab": {}
      },
      "source": [
        "def split_data_for_numerical(data, column, split_at_value):\n",
        "  # print(data)\n",
        "  # data = data.to_numpy()\n",
        "  print(data.shape)\n",
        "  # print(data.iloc[:,column])\n",
        "  data_below_value = data[data.iloc[:,column] <= split_at_value]\n",
        "  data_above_value = data[data.iloc[:,column] > split_at_value]\n",
        "  # print(data_below_value)\n",
        "  return data_below_value, data_above_value\n",
        "\n",
        "def split_data_for_categorical(data, column, split_at_value):\n",
        "  print(data.shape)\n",
        "  # print(data.iloc[:,column])\n",
        "  data_below_value = data[data.iloc[:,column] == split_at_value]\n",
        "  data_above_value = data[data.iloc[:,column] != split_at_value]\n",
        "  # print(data_below_value)\n",
        "  return data_below_value, data_above_value\n",
        "\n",
        "# split_data_for_categorical(data,1,)\n",
        "\n",
        "\n",
        "def cal_mse(data):\n",
        "  res= 0\n",
        "  # print(data)\n",
        "  label_values = (data.iloc[:,-1]).tolist()\n",
        "  print(label_values)\n",
        "  avg = statistics.mean(label_values)\n",
        "  print(avg)\n",
        "  print(len(label_values))\n",
        "  print(\"data \",data.shape[0])\n",
        "  sum = 0\n",
        "  # print(label_values)\n",
        "  for i in range(len(label_values)):\n",
        "    # print(i)\n",
        "    # print(label_values[i])\n",
        "    sum += (label_values[i] - avg)**2\n",
        "  res = sum/len(label_values) \n",
        "  # print(sum)\n",
        "  return res\n",
        "\n",
        "\n",
        "# cal_mse(data)\n",
        "\n",
        "def cal_entropy_at_each_split(data,feature, value_at_feature):\n",
        "  total_length = data.shape[0]\n",
        "  print(value_at_feature)\n",
        "  print(feature)\n",
        "  # print(data[feature].dtype)\n",
        "  if isinstance(data.iloc[0][feature], str):\n",
        "    print(\"dataype is string\")\n",
        "    data_below_value, data_above_value = split_data_for_categorical(data,feature,value_at_feature)\n",
        "    # print(data_below_value)\n",
        "  else:\n",
        "    data_below_value, data_above_value = split_data_for_numerical(data,feature,value_at_feature)\n",
        "    print(data_below_value)\n",
        "  prob = 0\n",
        "  # cal_mse_for_data_below_value = cal_mse(data_below_value)\n",
        "  # print(cal_mse_for_data_below_value)\n",
        "  prob += (len(data_below_value)/total_length)*cal_mse(data_below_value)\n",
        "  # print(prob)\n",
        "  prob += (len(data_above_value)/total_length)*cal_mse(data_above_value)\n",
        "  print(\"final value = \", prob)\n",
        "  return prob\n",
        "\n",
        "\n",
        "\n",
        "\n",
        "\n",
        "def cal_entropy(data,dictionary):\n",
        "  values_of_each_row = []\n",
        "  for i in range(len(dictionary)):\n",
        "    row = dictionary[i]\n",
        "    print(dictionary[i])\n",
        "    print(\"calculating for col \", i)\n",
        "    mse_at_each_split = []\n",
        "    min_entropy = 999\n",
        "    for j in range(len(row)):\n",
        "      print(\"calculating for val \", row[j])\n",
        "      temp_data = data\n",
        "      feature = 0\n",
        "      value_at_feature = 0\n",
        "      entropy_at_each_split = cal_entropy_at_each_split(temp_data,i,row[j])\n",
        "      if entropy_at_each_split < min_entropy :\n",
        "        min_entropy = entropy_at_each_split\n",
        "        feature = i\n",
        "        value_at_feature = j\n",
        "    print(min_entropy, \" \", feature, \" \", value_at_feature)\n",
        "    values_of_each_row.append((min_entropy,feature,value_at_feature))\n",
        "\n",
        "cal_entropy(data,dictionary)"
      ],
      "execution_count": 0,
      "outputs": []
    },
    {
      "cell_type": "code",
      "metadata": {
        "id": "XTcEdnrYEuuL",
        "colab_type": "code",
        "colab": {}
      },
      "source": [
        ""
      ],
      "execution_count": 0,
      "outputs": []
    },
    {
      "cell_type": "code",
      "metadata": {
        "id": "1VU_AgQcEusF",
        "colab_type": "code",
        "colab": {}
      },
      "source": [
        ""
      ],
      "execution_count": 0,
      "outputs": []
    }
  ]
}